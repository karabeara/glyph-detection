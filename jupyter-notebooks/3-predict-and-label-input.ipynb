{
 "cells": [
  {
   "cell_type": "markdown",
   "id": "35a4a048",
   "metadata": {},
   "source": [
    "# Predict and Label Curated Input w/ Model Trained on EMNIST\n",
    "#### IN PROGRESS, TODO: Describe each step and link to other related projects\n",
    "\n",
    "## In this third notebook, let's classify our set of unlabeled 28x28 pixel single contour images."
   ]
  },
  {
   "cell_type": "markdown",
   "id": "5f59fb3b",
   "metadata": {},
   "source": [
    "## Importing Libraries"
   ]
  },
  {
   "cell_type": "code",
   "execution_count": 1,
   "id": "4affb51d",
   "metadata": {},
   "outputs": [],
   "source": [
    "import tensorflow as tf\n",
    "import numpy as np\n",
    "import matplotlib.pyplot as plt\n",
    "import cv2\n",
    "\n",
    "from PIL import Image, ImageOps"
   ]
  },
  {
   "cell_type": "markdown",
   "id": "65914978",
   "metadata": {},
   "source": [
    "## Choosing Previously-Trained Classifier\n",
    "\n",
    "### To swap between loaded models, change the \"reloaded_model_name\" parameter in the next code block to one of the following four strings:\n",
    "\n",
    "* __BALANCED__: EMNIST Balanced (131,600 characters - 47 balanced classes)\n",
    "* __BYCLASS__:  EMNIST ByClass (814,255 characters - 62 unbalanced classes)\n",
    "* __DIGITS__:   EMNIST Digits (280,000 character - 10 balanced classes)\n",
    "* __LETTERS__:  EMNIST Letters (145,600 characters - 26 balanced classes)\n",
    "\n",
    "#### Find more information about the Extended MNIST (EMNIST) dataset here: \n",
    "- https://www.nist.gov/itl/products-and-services/emnist-dataset"
   ]
  },
  {
   "cell_type": "code",
   "execution_count": 20,
   "id": "b92d045b",
   "metadata": {
    "scrolled": true
   },
   "outputs": [
    {
     "name": "stdout",
     "output_type": "stream",
     "text": [
      "Model: \"sequential_2\"\n",
      "_________________________________________________________________\n",
      " Layer (type)                Output Shape              Param #   \n",
      "=================================================================\n",
      " conv2d_6 (Conv2D)           (None, 28, 28, 32)        320       \n",
      "                                                                 \n",
      " max_pooling2d_6 (MaxPooling  (None, 14, 14, 32)       0         \n",
      " 2D)                                                             \n",
      "                                                                 \n",
      " conv2d_7 (Conv2D)           (None, 12, 12, 64)        18496     \n",
      "                                                                 \n",
      " max_pooling2d_7 (MaxPooling  (None, 6, 6, 64)         0         \n",
      " 2D)                                                             \n",
      "                                                                 \n",
      " conv2d_8 (Conv2D)           (None, 4, 4, 128)         73856     \n",
      "                                                                 \n",
      " max_pooling2d_8 (MaxPooling  (None, 2, 2, 128)        0         \n",
      " 2D)                                                             \n",
      "                                                                 \n",
      " dropout_2 (Dropout)         (None, 2, 2, 128)         0         \n",
      "                                                                 \n",
      " flatten_2 (Flatten)         (None, 512)               0         \n",
      "                                                                 \n",
      " dense_6 (Dense)             (None, 256)               131328    \n",
      "                                                                 \n",
      " dense_7 (Dense)             (None, 128)               32896     \n",
      "                                                                 \n",
      " dense_8 (Dense)             (None, 27)                3483      \n",
      "                                                                 \n",
      "=================================================================\n",
      "Total params: 260,379\n",
      "Trainable params: 260,379\n",
      "Non-trainable params: 0\n",
      "_________________________________________________________________\n"
     ]
    }
   ],
   "source": [
    "reloaded_model_name = \"LETTERS\"\n",
    "reloaded_model_name_full = \"../models/saved-models/emnist-\" + reloaded_model_name.lower() + \"-saved-model\"\n",
    "reloaded = tf.keras.models.load_model(reloaded_model_name_full)\n",
    "\n",
    "reloaded.summary()"
   ]
  },
  {
   "cell_type": "code",
   "execution_count": 21,
   "id": "bde28d30",
   "metadata": {},
   "outputs": [
    {
     "data": {
      "text/plain": [
       "(None, 28, 28, 1)"
      ]
     },
     "execution_count": 21,
     "metadata": {},
     "output_type": "execute_result"
    }
   ],
   "source": [
    "reloaded.layers[0].input_shape"
   ]
  },
  {
   "cell_type": "code",
   "execution_count": 22,
   "id": "49132d78",
   "metadata": {
    "scrolled": true
   },
   "outputs": [
    {
     "data": {
      "image/png": "[encoded data removed]",
      "text/plain": [
       "<PIL.Image.Image image mode=1 size=28x28>"
      ]
     },
     "execution_count": 22,
     "metadata": {},
     "output_type": "execute_result"
    }
   ],
   "source": [
    "# example image taken from the \"28_png_black_contour_squares\" folder\n",
    "#user_test = \"../input/examples/926_contour_square_first_american_financial_413_8.png\" # A\n",
    "user_test = \"../input/examples/124_contour_square_loews_255_18.png\"  # C\n",
    "col = Image.open(user_test)\n",
    "gray = col.convert('L')\n",
    "bw = gray.point(lambda x: 0 if x<100 else 255, '1')\n",
    "#bw = bw.rotate(0)\n",
    "#bw = ImageOps.mirror(bw)\n",
    "bw.save(\"./tmp/bw_image.jpg\")\n",
    "bw"
   ]
  },
  {
   "cell_type": "code",
   "execution_count": 23,
   "id": "fcf62cb1",
   "metadata": {
    "scrolled": false
   },
   "outputs": [
    {
     "name": "stdout",
     "output_type": "stream",
     "text": [
      "784\n"
     ]
    },
    {
     "data": {
      "image/png": "[encoded data removed]",
      "text/plain": [
       "<Figure size 432x288 with 1 Axes>"
      ]
     },
     "metadata": {
      "needs_background": "light"
     },
     "output_type": "display_data"
    }
   ],
   "source": [
    "img_array = cv2.imread(\"./tmp/bw_image.jpg\", cv2.IMREAD_GRAYSCALE)\n",
    "img_array = cv2.bitwise_not(img_array)\n",
    "print(img_array.size)\n",
    "plt.imshow(img_array, cmap = plt.cm.binary)\n",
    "plt.show()"
   ]
  },
  {
   "cell_type": "code",
   "execution_count": 24,
   "id": "619c7cfc",
   "metadata": {},
   "outputs": [
    {
     "data": {
      "image/png": "[encoded data removed]",
      "text/plain": [
       "<Figure size 432x288 with 1 Axes>"
      ]
     },
     "metadata": {
      "needs_background": "light"
     },
     "output_type": "display_data"
    }
   ],
   "source": [
    "img_size = 28\n",
    "new_array = cv2.resize(img_array, (img_size,img_size))\n",
    "plt.imshow(new_array, cmap = plt.cm.binary)\n",
    "plt.show()"
   ]
  },
  {
   "cell_type": "code",
   "execution_count": 25,
   "id": "ca707767",
   "metadata": {},
   "outputs": [],
   "source": [
    "new_array = np.expand_dims(new_array, axis=0)\n",
    "user_test = tf.keras.utils.normalize(new_array, axis = 1)"
   ]
  },
  {
   "cell_type": "code",
   "execution_count": 28,
   "id": "af63b941",
   "metadata": {},
   "outputs": [],
   "source": [
    "balanced_characters = ['A','B','C','D','E','F','G','H','I','J','K','L','M','N','O',\n",
    "                       'P','Q','R','S','T','U','V','W','X','Y','Z',\n",
    "                       'a','b','d','e','f','g','h','n','q','r','t']\n",
    "\n",
    "byclass_characters = ['0','1','2','3','4','5','6','7','8','9',\n",
    "                      'A','B','C','D','E','F','G','H','I','J','K','L','M',\n",
    "                      'N','O','P','Q','R','S','T','U','V','W','X','Y','Z',\n",
    "                      'a','b','c','d','e','f','g','h','i','j','k','l','m',\n",
    "                      'n','o','p','q','r','s','t','u','v','w','x','y','z']\n",
    "\n",
    "digits_characters = ['0','1','2','3','4','5','6','7','8','9']\n",
    "\n",
    "letters_characters = ['A','B','C','D','E','F','G','H','I','J','K','L','M','N',\n",
    "                      'O','P','Q','R','S','T','U','V','W','X','Y','Z']\n",
    "\n",
    "characters = letters_characters\n",
    "\n",
    "if reloaded_model_name == \"BALANCED\":\n",
    "    characters = balanced_characters\n",
    "elif reloaded_model_name == \"BYCLASS\":\n",
    "    characters = byclass_characters\n",
    "elif reloaded_model_name == \"DIGITS\":\n",
    "    characters = digits_characters"
   ]
  },
  {
   "cell_type": "code",
   "execution_count": 29,
   "id": "0bbb658a",
   "metadata": {},
   "outputs": [
    {
     "name": "stdout",
     "output_type": "stream",
     "text": [
      "Probability Distribution for 0 2.9722058e-11\n",
      "Probability Distribution for 1 0.0003954508\n",
      "Probability Distribution for 2 0.9768148\n",
      "Probability Distribution for 3 1.391799e-06\n",
      "Probability Distribution for 4 9.144076e-06\n",
      "Probability Distribution for 5 0.00024280534\n",
      "Probability Distribution for 6 4.181866e-08\n",
      "Probability Distribution for 7 0.0063467724\n",
      "Probability Distribution for 8 1.7575514e-05\n",
      "Probability Distribution for 9 1.9126123e-08\n",
      "Probability Distribution for 10 1.5804317e-06\n",
      "Probability Distribution for 11 1.261708e-05\n",
      "Probability Distribution for 12 1.7429496e-05\n",
      "Probability Distribution for 13 0.00011174687\n",
      "Probability Distribution for 14 4.818868e-07\n",
      "Probability Distribution for 15 9.327958e-06\n",
      "Probability Distribution for 16 2.5837191e-05\n",
      "Probability Distribution for 17 0.015272305\n",
      "Probability Distribution for 18 0.00024243168\n",
      "Probability Distribution for 19 1.7867531e-05\n",
      "Probability Distribution for 20 3.0572085e-08\n",
      "Probability Distribution for 21 2.83828e-05\n",
      "Probability Distribution for 22 4.5670873e-07\n",
      "Probability Distribution for 23 0.00033511003\n",
      "Probability Distribution for 24 5.368048e-07\n",
      "Probability Distribution for 25 2.7550957e-05\n",
      "The Predicted Index is 2\n",
      "The Predicted Value is C\n"
     ]
    }
   ],
   "source": [
    "predicted = reloaded.predict([[user_test]])\n",
    "a = predicted[0][0]\n",
    "for i in range(0, len(characters)):\n",
    "  b = predicted[0][i]\n",
    "  print(\"Probability Distribution for\",i,b)\n",
    "\n",
    "print(\"The Predicted Index is\",np.argmax(predicted[0]))\n",
    "print(\"The Predicted Value is\",characters[np.argmax(predicted[0])])\n"
   ]
  },
  {
   "cell_type": "markdown",
   "id": "2e96098e",
   "metadata": {},
   "source": [
    "#### Below is an example of how to save out a model to a .json file to be used on a web app outside of the Jupyter Notebooks environment:"
   ]
  },
  {
   "cell_type": "code",
   "execution_count": 18,
   "id": "357a8f44",
   "metadata": {},
   "outputs": [],
   "source": [
    "import tensorflowjs as tfjs\n",
    "tfjs.converters.save_keras_model(reloaded, \"/Users/karabressler/Jupyter Notebooks/emnist-balanced-js-file\")"
   ]
  },
  {
   "cell_type": "code",
   "execution_count": null,
   "id": "1b4f4848",
   "metadata": {},
   "outputs": [],
   "source": []
  }
 ],
 "metadata": {
  "kernelspec": {
   "display_name": "Python 3 (ipykernel)",
   "language": "python",
   "name": "python3"
  },
  "language_info": {
   "codemirror_mode": {
    "name": "ipython",
    "version": 3
   },
   "file_extension": ".py",
   "mimetype": "text/x-python",
   "name": "python",
   "nbconvert_exporter": "python",
   "pygments_lexer": "ipython3",
   "version": "3.9.12"
  }
 },
 "nbformat": 4,
 "nbformat_minor": 5
}
