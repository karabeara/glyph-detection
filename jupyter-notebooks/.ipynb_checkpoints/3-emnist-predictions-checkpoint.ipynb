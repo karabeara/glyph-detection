{
 "cells": [
  {
   "cell_type": "markdown",
   "id": "35a4a048",
   "metadata": {},
   "source": [
    "# EMNIST Predicts\n",
    "\n",
    "## In this third notebook, let's classify our set of unlabeled 28x28 pixel single contour images."
   ]
  },
  {
   "cell_type": "code",
   "execution_count": 87,
   "id": "4affb51d",
   "metadata": {},
   "outputs": [],
   "source": [
    "import tensorflow as tf\n",
    "import numpy as np\n",
    "import matplotlib.pyplot as plt\n",
    "import cv2"
   ]
  },
  {
   "cell_type": "markdown",
   "id": "65914978",
   "metadata": {},
   "source": [
    "## To change between loaded models, change the \"reloaded_model\" parameter to one of the following four strings:\n",
    "\n",
    "* __BALANCED__: EMNIST Balanced (131,600 characters - 47 balanced classes)\n",
    "* __BYCLASS__:  EMNIST ByClass (814,255 characters - 62 unbalanced classes)\n",
    "* __DIGITS__:   EMNIST Digits (280,000 character - 10 balanced classes)\n",
    "* __LETTERS__:  EMNIST Letters (145,600 characters - 26 balanced classes)\n",
    "\n",
    "### Find more information about the Extended MNIST (EMNIST) dataset here: \n",
    "- https://www.nist.gov/itl/products-and-services/emnist-dataset"
   ]
  },
  {
   "cell_type": "code",
   "execution_count": 76,
   "id": "b92d045b",
   "metadata": {
    "scrolled": true
   },
   "outputs": [
    {
     "name": "stdout",
     "output_type": "stream",
     "text": [
      "Model: \"sequential_4\"\n",
      "_________________________________________________________________\n",
      " Layer (type)                Output Shape              Param #   \n",
      "=================================================================\n",
      " conv2d_12 (Conv2D)          (None, 28, 28, 32)        320       \n",
      "                                                                 \n",
      " max_pooling2d_12 (MaxPoolin  (None, 14, 14, 32)       0         \n",
      " g2D)                                                            \n",
      "                                                                 \n",
      " conv2d_13 (Conv2D)          (None, 12, 12, 64)        18496     \n",
      "                                                                 \n",
      " max_pooling2d_13 (MaxPoolin  (None, 6, 6, 64)         0         \n",
      " g2D)                                                            \n",
      "                                                                 \n",
      " conv2d_14 (Conv2D)          (None, 4, 4, 128)         73856     \n",
      "                                                                 \n",
      " max_pooling2d_14 (MaxPoolin  (None, 2, 2, 128)        0         \n",
      " g2D)                                                            \n",
      "                                                                 \n",
      " dropout_4 (Dropout)         (None, 2, 2, 128)         0         \n",
      "                                                                 \n",
      " flatten_4 (Flatten)         (None, 512)               0         \n",
      "                                                                 \n",
      " dense_12 (Dense)            (None, 256)               131328    \n",
      "                                                                 \n",
      " dense_13 (Dense)            (None, 128)               32896     \n",
      "                                                                 \n",
      " dense_14 (Dense)            (None, 47)                6063      \n",
      "                                                                 \n",
      "=================================================================\n",
      "Total params: 262,959\n",
      "Trainable params: 262,959\n",
      "Non-trainable params: 0\n",
      "_________________________________________________________________\n"
     ]
    }
   ],
   "source": [
    "reloaded = tf.keras.models.load_model(\n",
    "      \"/Users/karabressler/Jupyter Notebooks/emnist-balanced-saved-model\")\n",
    "\n",
    "reloaded.summary()"
   ]
  },
  {
   "cell_type": "code",
   "execution_count": 77,
   "id": "bde28d30",
   "metadata": {},
   "outputs": [
    {
     "data": {
      "text/plain": [
       "(None, 28, 28, 1)"
      ]
     },
     "execution_count": 77,
     "metadata": {},
     "output_type": "execute_result"
    }
   ],
   "source": [
    "reloaded.layers[0].input_shape"
   ]
  },
  {
   "cell_type": "code",
   "execution_count": 78,
   "id": "49132d78",
   "metadata": {
    "scrolled": true
   },
   "outputs": [
    {
     "data": {
      "image/png": "[encoded data removed]",
      "text/plain": [
       "<PIL.Image.Image image mode=1 size=28x28>"
      ]
     },
     "execution_count": 78,
     "metadata": {},
     "output_type": "execute_result"
    }
   ],
   "source": [
    "from PIL import Image\n",
    "#user_test = '/Users/karabressler/Desktop/Topography Typography/Real Talk Radio/input/28_png_black_contour_squares/2315_contour_square_lennar_160_5.png'\n",
    "user_test = \"/Users/karabressler/Desktop/Topography Typography /Real Talk Radio/input/28_png_black_contour_squares/2315_contour_square_lennar_160_5.png\"\n",
    "col = Image.open(user_test)\n",
    "gray = col.convert('L')\n",
    "bw = gray.point(lambda x: 0 if x<100 else 255, '1')\n",
    "bw.save(\"/Users/karabressler/Downloads/bw_image.jpg\")\n",
    "bw"
   ]
  },
  {
   "cell_type": "code",
   "execution_count": 79,
   "id": "fcf62cb1",
   "metadata": {
    "scrolled": false
   },
   "outputs": [
    {
     "name": "stdout",
     "output_type": "stream",
     "text": [
      "784\n"
     ]
    },
    {
     "data": {
      "image/png": "[encoded data removed]",
      "text/plain": [
       "<Figure size 432x288 with 1 Axes>"
      ]
     },
     "metadata": {
      "needs_background": "light"
     },
     "output_type": "display_data"
    }
   ],
   "source": [
    "img_array = cv2.imread(\"/Users/karabressler/Downloads/bw_image.jpg\", cv2.IMREAD_GRAYSCALE)\n",
    "img_array = cv2.bitwise_not(img_array)\n",
    "print(img_array.size)\n",
    "plt.imshow(img_array, cmap = plt.cm.binary)\n",
    "plt.show()"
   ]
  },
  {
   "cell_type": "code",
   "execution_count": 80,
   "id": "619c7cfc",
   "metadata": {},
   "outputs": [
    {
     "data": {
      "image/png": "[encoded data removed]",
      "text/plain": [
       "<Figure size 432x288 with 1 Axes>"
      ]
     },
     "metadata": {
      "needs_background": "light"
     },
     "output_type": "display_data"
    }
   ],
   "source": [
    "img_size = 28\n",
    "new_array = cv2.resize(img_array, (img_size,img_size))\n",
    "plt.imshow(new_array, cmap = plt.cm.binary)\n",
    "plt.show()"
   ]
  },
  {
   "cell_type": "code",
   "execution_count": 81,
   "id": "ca707767",
   "metadata": {},
   "outputs": [],
   "source": [
    "new_array = np.expand_dims(new_array, axis=0)\n",
    "user_test = tf.keras.utils.normalize(new_array, axis = 1)"
   ]
  },
  {
   "cell_type": "code",
   "execution_count": 82,
   "id": "af63b941",
   "metadata": {},
   "outputs": [],
   "source": [
    "characters = ['0','1','2','3','4','5','6','7','8','9',\n",
    "'A','B','C','D','E','F','G','H','I','J','K','L','M','N','O','P','Q','R','S','T','U','V','W','X','Y','Z',\n",
    "'a','b','c','d','e','f','g','h','i','j','k','l','m','n','o','p','q','r','s','t','u','v','w','x','y','z']"
   ]
  },
  {
   "cell_type": "code",
   "execution_count": 83,
   "id": "0bbb658a",
   "metadata": {},
   "outputs": [
    {
     "name": "stdout",
     "output_type": "stream",
     "text": [
      "Probability Distribution for 0 1.1225447e-05\n",
      "Probability Distribution for 1 6.9413495e-06\n",
      "Probability Distribution for 2 0.008116619\n",
      "Probability Distribution for 3 0.059597816\n",
      "Probability Distribution for 4 3.2512823e-08\n",
      "Probability Distribution for 5 0.5414125\n",
      "Probability Distribution for 6 0.0013777284\n",
      "Probability Distribution for 7 2.5742791e-05\n",
      "Probability Distribution for 8 0.0016735554\n",
      "Probability Distribution for 9 1.7582947e-06\n",
      "Probability Distribution for 10 3.8655103e-06\n",
      "Probability Distribution for 11 0.038335495\n",
      "Probability Distribution for 12 1.6772301e-05\n",
      "Probability Distribution for 13 0.0016728262\n",
      "Probability Distribution for 14 0.020976525\n",
      "Probability Distribution for 15 0.0044184495\n",
      "Probability Distribution for 16 0.0011699925\n",
      "Probability Distribution for 17 3.2541673e-06\n",
      "Probability Distribution for 18 0.039730452\n",
      "Probability Distribution for 19 0.0940571\n",
      "Probability Distribution for 20 9.208146e-05\n",
      "Probability Distribution for 21 3.245389e-05\n",
      "Probability Distribution for 22 1.8795053e-07\n",
      "Probability Distribution for 23 7.008465e-06\n",
      "Probability Distribution for 24 1.4356723e-06\n",
      "Probability Distribution for 25 0.00013718108\n",
      "Probability Distribution for 26 9.290957e-05\n",
      "Probability Distribution for 27 1.4381452e-05\n",
      "Probability Distribution for 28 0.13987055\n",
      "Probability Distribution for 29 5.1380543e-05\n",
      "Probability Distribution for 30 2.3926423e-06\n",
      "Probability Distribution for 31 8.461147e-06\n",
      "Probability Distribution for 32 2.1309126e-05\n",
      "Probability Distribution for 33 0.00013562827\n",
      "Probability Distribution for 34 2.4411236e-05\n",
      "Probability Distribution for 35 0.040560808\n",
      "Probability Distribution for 36 0.0008851111\n",
      "Probability Distribution for 37 0.000910553\n",
      "Probability Distribution for 38 5.0193135e-05\n",
      "Probability Distribution for 39 3.6406924e-05\n",
      "Probability Distribution for 40 0.0017789972\n",
      "Probability Distribution for 41 0.0015006211\n",
      "Probability Distribution for 42 0.0005993595\n",
      "Probability Distribution for 43 1.7540224e-06\n",
      "Probability Distribution for 44 0.00038974072\n",
      "Probability Distribution for 45 3.0234498e-06\n",
      "Probability Distribution for 46 0.00018306306\n",
      "The Predicted Index is 5\n",
      "The Predicted Value is 5\n"
     ]
    }
   ],
   "source": [
    "predicted = reloaded.predict([[user_test]])\n",
    "a = predicted[0][0]\n",
    "for i in range(0,47):\n",
    "  b = predicted[0][i]\n",
    "  print(\"Probability Distribution for\",i,b)\n",
    "\n",
    "print(\"The Predicted Index is\",np.argmax(predicted[0]))\n",
    "print(\"The Predicted Value is\",characters[np.argmax(predicted[0])])\n"
   ]
  },
  {
   "cell_type": "markdown",
   "id": "2e96098e",
   "metadata": {},
   "source": [
    "## Import tensorflowjs and then convert the model to .json file"
   ]
  },
  {
   "cell_type": "code",
   "execution_count": 84,
   "id": "357a8f44",
   "metadata": {},
   "outputs": [],
   "source": [
    "import tensorflowjs as tfjs"
   ]
  },
  {
   "cell_type": "code",
   "execution_count": 85,
   "id": "eca0708a",
   "metadata": {},
   "outputs": [],
   "source": [
    "tfjs.converters.save_keras_model(reloaded, \"/Users/karabressler/Jupyter Notebooks/emnist-balanced-js-file\")"
   ]
  },
  {
   "cell_type": "code",
   "execution_count": null,
   "id": "1b4f4848",
   "metadata": {},
   "outputs": [],
   "source": []
  }
 ],
 "metadata": {
  "kernelspec": {
   "display_name": "Python 3 (ipykernel)",
   "language": "python",
   "name": "python3"
  },
  "language_info": {
   "codemirror_mode": {
    "name": "ipython",
    "version": 3
   },
   "file_extension": ".py",
   "mimetype": "text/x-python",
   "name": "python",
   "nbconvert_exporter": "python",
   "pygments_lexer": "ipython3",
   "version": "3.9.12"
  }
 },
 "nbformat": 4,
 "nbformat_minor": 5
}
