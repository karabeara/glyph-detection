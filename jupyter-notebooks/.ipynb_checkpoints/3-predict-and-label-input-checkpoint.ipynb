{
 "cells": [
  {
   "cell_type": "markdown",
   "id": "35a4a048",
   "metadata": {},
   "source": [
    "# Predict and Label Curated Input w/ Model Trained on EMNIST\n",
    "\n",
    "## In this third notebook, let's classify our set of unlabeled 28x28 pixel single contour images."
   ]
  },
  {
   "cell_type": "code",
   "execution_count": 67,
   "id": "4affb51d",
   "metadata": {},
   "outputs": [],
   "source": [
    "import tensorflow as tf\n",
    "import numpy as np\n",
    "import matplotlib.pyplot as plt\n",
    "import cv2\n",
    "\n",
    "from PIL import Image, ImageOps"
   ]
  },
  {
   "cell_type": "markdown",
   "id": "65914978",
   "metadata": {},
   "source": [
    "## To swap between loaded models, change the \"reloaded_model_name\" parameter in the next code block to one of the following four strings:\n",
    "\n",
    "* __BALANCED__: EMNIST Balanced (131,600 characters - 47 balanced classes)\n",
    "* __BYCLASS__:  EMNIST ByClass (814,255 characters - 62 unbalanced classes)\n",
    "* __DIGITS__:   EMNIST Digits (280,000 character - 10 balanced classes)\n",
    "* __LETTERS__:  EMNIST Letters (145,600 characters - 26 balanced classes)\n",
    "\n",
    "### Find more information about the Extended MNIST (EMNIST) dataset here: \n",
    "- https://www.nist.gov/itl/products-and-services/emnist-dataset"
   ]
  },
  {
   "cell_type": "code",
   "execution_count": 188,
   "id": "b92d045b",
   "metadata": {
    "scrolled": true
   },
   "outputs": [
    {
     "name": "stdout",
     "output_type": "stream",
     "text": [
      "Model: \"sequential\"\n",
      "_________________________________________________________________\n",
      " Layer (type)                Output Shape              Param #   \n",
      "=================================================================\n",
      " conv2d (Conv2D)             (None, 28, 28, 32)        320       \n",
      "                                                                 \n",
      " max_pooling2d (MaxPooling2D  (None, 14, 14, 32)       0         \n",
      " )                                                               \n",
      "                                                                 \n",
      " conv2d_1 (Conv2D)           (None, 12, 12, 64)        18496     \n",
      "                                                                 \n",
      " max_pooling2d_1 (MaxPooling  (None, 6, 6, 64)         0         \n",
      " 2D)                                                             \n",
      "                                                                 \n",
      " conv2d_2 (Conv2D)           (None, 4, 4, 128)         73856     \n",
      "                                                                 \n",
      " max_pooling2d_2 (MaxPooling  (None, 2, 2, 128)        0         \n",
      " 2D)                                                             \n",
      "                                                                 \n",
      " dropout (Dropout)           (None, 2, 2, 128)         0         \n",
      "                                                                 \n",
      " flatten (Flatten)           (None, 512)               0         \n",
      "                                                                 \n",
      " dense (Dense)               (None, 256)               131328    \n",
      "                                                                 \n",
      " dense_1 (Dense)             (None, 128)               32896     \n",
      "                                                                 \n",
      " dense_2 (Dense)             (None, 62)                7998      \n",
      "                                                                 \n",
      "=================================================================\n",
      "Total params: 264,894\n",
      "Trainable params: 264,894\n",
      "Non-trainable params: 0\n",
      "_________________________________________________________________\n"
     ]
    }
   ],
   "source": [
    "reloaded_model_name = \"BYCLASS\"\n",
    "reloaded_model_name_full = \"../models/saved-models/emnist-\" + reloaded_model_name.lower() + \"-saved-model\"\n",
    "reloaded = tf.keras.models.load_model(reloaded_model_name_full)\n",
    "\n",
    "reloaded.summary()"
   ]
  },
  {
   "cell_type": "code",
   "execution_count": 189,
   "id": "bde28d30",
   "metadata": {},
   "outputs": [
    {
     "data": {
      "text/plain": [
       "(None, 28, 28, 1)"
      ]
     },
     "execution_count": 189,
     "metadata": {},
     "output_type": "execute_result"
    }
   ],
   "source": [
    "reloaded.layers[0].input_shape"
   ]
  },
  {
   "cell_type": "code",
   "execution_count": 215,
   "id": "49132d78",
   "metadata": {
    "scrolled": true
   },
   "outputs": [
    {
     "ename": "AttributeError",
     "evalue": "mirror",
     "output_type": "error",
     "traceback": [
      "\u001b[0;31m---------------------------------------------------------------------------\u001b[0m",
      "\u001b[0;31mAttributeError\u001b[0m                            Traceback (most recent call last)",
      "Input \u001b[0;32mIn [215]\u001b[0m, in \u001b[0;36m<cell line: 8>\u001b[0;34m()\u001b[0m\n\u001b[1;32m      6\u001b[0m bw \u001b[38;5;241m=\u001b[39m gray\u001b[38;5;241m.\u001b[39mpoint(\u001b[38;5;28;01mlambda\u001b[39;00m x: \u001b[38;5;241m0\u001b[39m \u001b[38;5;28;01mif\u001b[39;00m x\u001b[38;5;241m<\u001b[39m\u001b[38;5;241m100\u001b[39m \u001b[38;5;28;01melse\u001b[39;00m \u001b[38;5;241m255\u001b[39m, \u001b[38;5;124m'\u001b[39m\u001b[38;5;124m1\u001b[39m\u001b[38;5;124m'\u001b[39m)\n\u001b[1;32m      7\u001b[0m bw \u001b[38;5;241m=\u001b[39m bw\u001b[38;5;241m.\u001b[39mrotate(\u001b[38;5;241m0\u001b[39m)\n\u001b[0;32m----> 8\u001b[0m bw \u001b[38;5;241m=\u001b[39m \u001b[43mbw\u001b[49m\u001b[38;5;241;43m.\u001b[39;49m\u001b[43mmirror\u001b[49m()\n\u001b[1;32m      9\u001b[0m bw\u001b[38;5;241m.\u001b[39msave(\u001b[38;5;124m\"\u001b[39m\u001b[38;5;124m./tmp/bw_image.jpg\u001b[39m\u001b[38;5;124m\"\u001b[39m)\n\u001b[1;32m     10\u001b[0m bw\n",
      "File \u001b[0;32m/usr/local/lib/python3.9/site-packages/PIL/Image.py:548\u001b[0m, in \u001b[0;36mImage.__getattr__\u001b[0;34m(self, name)\u001b[0m\n\u001b[1;32m    541\u001b[0m     warnings\u001b[38;5;241m.\u001b[39mwarn(\n\u001b[1;32m    542\u001b[0m         \u001b[38;5;124m\"\u001b[39m\u001b[38;5;124mImage categories are deprecated and will be removed in Pillow 10 \u001b[39m\u001b[38;5;124m\"\u001b[39m\n\u001b[1;32m    543\u001b[0m         \u001b[38;5;124m\"\u001b[39m\u001b[38;5;124m(2023-07-01). Use is_animated instead.\u001b[39m\u001b[38;5;124m\"\u001b[39m,\n\u001b[1;32m    544\u001b[0m         \u001b[38;5;167;01mDeprecationWarning\u001b[39;00m,\n\u001b[1;32m    545\u001b[0m         stacklevel\u001b[38;5;241m=\u001b[39m\u001b[38;5;241m2\u001b[39m,\n\u001b[1;32m    546\u001b[0m     )\n\u001b[1;32m    547\u001b[0m     \u001b[38;5;28;01mreturn\u001b[39;00m \u001b[38;5;28mself\u001b[39m\u001b[38;5;241m.\u001b[39m_category\n\u001b[0;32m--> 548\u001b[0m \u001b[38;5;28;01mraise\u001b[39;00m \u001b[38;5;167;01mAttributeError\u001b[39;00m(name)\n",
      "\u001b[0;31mAttributeError\u001b[0m: mirror"
     ]
    }
   ],
   "source": [
    "# example image taken from the \"28_png_black_contour_squares\" folder\n",
    "user_test = \"../input/examples/926_contour_square_first_american_financial_413_8.png\"\n",
    "#user_test = \"../input/examples/124_contour_square_loews_255_18.png\"\n",
    "col = Image.open(user_test)\n",
    "gray = col.convert('L')\n",
    "bw = gray.point(lambda x: 0 if x<100 else 255, '1')\n",
    "bw = bw.rotate(0)\n",
    "bw = bw.mirror()\n",
    "bw.save(\"./tmp/bw_image.jpg\")\n",
    "bw"
   ]
  },
  {
   "cell_type": "code",
   "execution_count": 210,
   "id": "fcf62cb1",
   "metadata": {
    "scrolled": false
   },
   "outputs": [
    {
     "name": "stdout",
     "output_type": "stream",
     "text": [
      "784\n"
     ]
    },
    {
     "data": {
      "image/png": "[encoded data removed]",
      "text/plain": [
       "<Figure size 432x288 with 1 Axes>"
      ]
     },
     "metadata": {
      "needs_background": "light"
     },
     "output_type": "display_data"
    }
   ],
   "source": [
    "img_array = cv2.imread(\"./tmp/bw_image.jpg\", cv2.IMREAD_GRAYSCALE)\n",
    "img_array = cv2.bitwise_not(img_array)\n",
    "print(img_array.size)\n",
    "plt.imshow(img_array, cmap = plt.cm.binary)\n",
    "plt.show()"
   ]
  },
  {
   "cell_type": "code",
   "execution_count": 211,
   "id": "619c7cfc",
   "metadata": {},
   "outputs": [
    {
     "data": {
      "image/png": "[encoded data removed]",
      "text/plain": [
       "<Figure size 432x288 with 1 Axes>"
      ]
     },
     "metadata": {
      "needs_background": "light"
     },
     "output_type": "display_data"
    }
   ],
   "source": [
    "img_size = 28\n",
    "new_array = cv2.resize(img_array, (img_size,img_size))\n",
    "plt.imshow(new_array, cmap = plt.cm.binary)\n",
    "plt.show()"
   ]
  },
  {
   "cell_type": "code",
   "execution_count": 212,
   "id": "ca707767",
   "metadata": {},
   "outputs": [],
   "source": [
    "new_array = np.expand_dims(new_array, axis=0)\n",
    "user_test = tf.keras.utils.normalize(new_array, axis = 1)"
   ]
  },
  {
   "cell_type": "code",
   "execution_count": 213,
   "id": "af63b941",
   "metadata": {},
   "outputs": [],
   "source": [
    "balanced_characters = ['A','B','C','D','E','F','G','H','I','J','K','L','M','N','O',\n",
    "                       'P','Q','R','S','T','U','V','W','X','Y','Z',\n",
    "                       'a','b','d','e','f','g','h','n','q','r','t']\n",
    "\n",
    "byclass_characters = ['0','1','2','3','4','5','6','7','8','9',\n",
    "                      'A','B','C','D','E','F','G','H','I','J','K','L','M',\n",
    "                      'N','O','P','Q','R','S','T','U','V','W','X','Y','Z',\n",
    "                      'a','b','c','d','e','f','g','h','i','j','k','l','m',\n",
    "                      'n','o','p','q','r','s','t','u','v','w','x','y','z']\n",
    "\n",
    "digits_characters = ['0','1','2','3','4','5','6','7','8','9']\n",
    "\n",
    "letters_characters = ['A','B','C','D','E','F','G','H','I','J','K','L','M','N',\n",
    "                      'O','P','Q','R','S','T','U','V','W','X','Y','Z']\n",
    "\n",
    "characters = letters_characters\n",
    "\n",
    "if reloaded_model_name == \"BALANCED\":\n",
    "    characters = balanced_characters\n",
    "elif reloaded_model_name == \"BYCLASS\":\n",
    "    characters = byclass_characters\n",
    "elif reloaded_model_name == \"DIGITS\":\n",
    "    characters = digits_characters"
   ]
  },
  {
   "cell_type": "code",
   "execution_count": 214,
   "id": "0bbb658a",
   "metadata": {},
   "outputs": [
    {
     "name": "stdout",
     "output_type": "stream",
     "text": [
      "Probability Distribution for 0 0.00018078154\n",
      "Probability Distribution for 1 1.1230339e-07\n",
      "Probability Distribution for 2 0.05799402\n",
      "Probability Distribution for 3 0.00014022172\n",
      "Probability Distribution for 4 1.993604e-06\n",
      "Probability Distribution for 5 0.007496525\n",
      "Probability Distribution for 6 1.1299471e-05\n",
      "Probability Distribution for 7 2.8871648e-06\n",
      "Probability Distribution for 8 5.9446018e-05\n",
      "Probability Distribution for 9 1.8305345e-05\n",
      "Probability Distribution for 10 0.0010039426\n",
      "Probability Distribution for 11 0.0022545997\n",
      "Probability Distribution for 12 1.3329442e-05\n",
      "Probability Distribution for 13 0.0011974844\n",
      "Probability Distribution for 14 0.019155556\n",
      "Probability Distribution for 15 3.0483476e-05\n",
      "Probability Distribution for 16 0.5455032\n",
      "Probability Distribution for 17 0.001131553\n",
      "Probability Distribution for 18 1.785655e-06\n",
      "Probability Distribution for 19 0.0002734316\n",
      "Probability Distribution for 20 0.0001165327\n",
      "Probability Distribution for 21 0.0027429725\n",
      "Probability Distribution for 22 0.00021933873\n",
      "Probability Distribution for 23 9.416788e-05\n",
      "Probability Distribution for 24 4.064209e-05\n",
      "Probability Distribution for 25 3.6755992e-07\n",
      "Probability Distribution for 26 0.019065596\n",
      "Probability Distribution for 27 0.0005057055\n",
      "Probability Distribution for 28 0.004345248\n",
      "Probability Distribution for 29 4.1156476e-05\n",
      "Probability Distribution for 30 0.00092787505\n",
      "Probability Distribution for 31 2.3000314e-06\n",
      "Probability Distribution for 32 0.23231454\n",
      "Probability Distribution for 33 1.4219204e-05\n",
      "Probability Distribution for 34 0.004151032\n",
      "Probability Distribution for 35 0.006256882\n",
      "Probability Distribution for 36 0.01918152\n",
      "Probability Distribution for 37 0.0010391073\n",
      "Probability Distribution for 38 8.201813e-07\n",
      "Probability Distribution for 39 4.0423307e-05\n",
      "Probability Distribution for 40 0.0065892143\n",
      "Probability Distribution for 41 9.5719015e-06\n",
      "Probability Distribution for 42 0.04398985\n",
      "Probability Distribution for 43 0.0037995304\n",
      "Probability Distribution for 44 8.3717987e-07\n",
      "Probability Distribution for 45 0.0013976785\n",
      "Probability Distribution for 46 0.00029133275\n",
      "Probability Distribution for 47 5.3551105e-07\n",
      "Probability Distribution for 48 8.99007e-05\n",
      "Probability Distribution for 49 6.253064e-06\n",
      "Probability Distribution for 50 1.5819853e-05\n",
      "Probability Distribution for 51 6.61818e-07\n",
      "Probability Distribution for 52 0.0018752425\n",
      "Probability Distribution for 53 1.0502656e-05\n",
      "Probability Distribution for 54 0.0004345196\n",
      "Probability Distribution for 55 3.7936447e-06\n",
      "Probability Distribution for 56 7.355558e-05\n",
      "Probability Distribution for 57 1.6760052e-05\n",
      "Probability Distribution for 58 0.0023838554\n",
      "Probability Distribution for 59 2.793595e-06\n",
      "Probability Distribution for 60 0.009486614\n",
      "Probability Distribution for 61 0.0019498245\n",
      "The Predicted Index is 16\n",
      "The Predicted Value is G\n"
     ]
    }
   ],
   "source": [
    "predicted = reloaded.predict([[user_test]])\n",
    "a = predicted[0][0]\n",
    "for i in range(0, len(characters)):\n",
    "  b = predicted[0][i]\n",
    "  print(\"Probability Distribution for\",i,b)\n",
    "\n",
    "print(\"The Predicted Index is\",np.argmax(predicted[0]))\n",
    "print(\"The Predicted Value is\",characters[np.argmax(predicted[0])])\n"
   ]
  },
  {
   "cell_type": "markdown",
   "id": "2e96098e",
   "metadata": {},
   "source": [
    "## Import tensorflowjs and then convert the model to .json file"
   ]
  },
  {
   "cell_type": "code",
   "execution_count": 202,
   "id": "357a8f44",
   "metadata": {},
   "outputs": [],
   "source": [
    "import tensorflowjs as tfjs"
   ]
  },
  {
   "cell_type": "code",
   "execution_count": 43,
   "id": "eca0708a",
   "metadata": {},
   "outputs": [],
   "source": [
    "tfjs.converters.save_keras_model(reloaded, \"/Users/karabressler/Jupyter Notebooks/emnist-balanced-js-file\")"
   ]
  },
  {
   "cell_type": "code",
   "execution_count": null,
   "id": "1b4f4848",
   "metadata": {},
   "outputs": [],
   "source": []
  }
 ],
 "metadata": {
  "kernelspec": {
   "display_name": "Python 3 (ipykernel)",
   "language": "python",
   "name": "python3"
  },
  "language_info": {
   "codemirror_mode": {
    "name": "ipython",
    "version": 3
   },
   "file_extension": ".py",
   "mimetype": "text/x-python",
   "name": "python",
   "nbconvert_exporter": "python",
   "pygments_lexer": "ipython3",
   "version": "3.9.12"
  }
 },
 "nbformat": 4,
 "nbformat_minor": 5
}
